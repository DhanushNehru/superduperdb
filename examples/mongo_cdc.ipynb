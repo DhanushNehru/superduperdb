{
 "cells": [
  {
   "cell_type": "markdown",
   "id": "1b057225",
   "metadata": {},
   "source": [
    "# Change data capture with MongoDB\n",
    "\n",
    "In a standalone MongoDB deployment, users are required to insert data directly through the \n",
    "SuperDuperDB `Datalayer` or client (which triggers the `Datalayer`). For use-cases \n",
    "with multiple users, stakeholders, and potentially automated data-updates on the database,\n",
    "this is not sufficient. For that reason SuperDuperDB supports a paradigm known as \n",
    "change-data-capture (CDC). \n",
    "\n",
    "In change-data-capture, a service is deployed which watchers the data deployment for changes, and \n",
    "reacts to these changes, activating models which are configured to compute outputs over new data.\n",
    "\n",
    "In this notebook, we demonstrate how to use CDC with SuperDuperDB."
   ]
  },
  {
   "cell_type": "code",
   "execution_count": 1,
   "id": "4a37df1a",
   "metadata": {},
   "outputs": [
    {
     "name": "stderr",
     "output_type": "stream",
     "text": [
      "INFO:numexpr.utils:NumExpr defaulting to 8 threads.\n"
     ]
    }
   ],
   "source": [
    "import pymongo\n",
    "import torch\n",
    "import sys\n",
    "\n",
    "sys.path.append('../')\n",
    "\n",
    "from superduperdb.encoders.numpy.array import array\n",
    "from superduperdb.models.sentence_transformers.wrapper import SentenceTransformer\n",
    "from superduperdb.datalayer.mongodb.query import Collection\n",
    "from superduperdb.misc.superduper import superduper\n",
    "from superduperdb.core.watcher import Watcher\n",
    "from superduperdb.core.vector_index import VectorIndex\n",
    "from superduperdb.datalayer.base.cdc import DatabaseWatcher\n",
    "from superduperdb.core.documents import Document as D\n",
    "from sentence_transformers import SentenceTransformer as _SentenceTransformer"
   ]
  },
  {
   "cell_type": "code",
   "execution_count": 2,
   "id": "fd223945",
   "metadata": {},
   "outputs": [],
   "source": [
    "pymongo.MongoClient().drop_database('documents')\n",
    "pymongo.MongoClient().drop_database('_filesystem:documents')"
   ]
  },
  {
   "cell_type": "code",
   "execution_count": null,
   "id": "54727bef",
   "metadata": {},
   "outputs": [],
   "source": [
    "db = pymongo.MongoClient().documents\n",
    "db = superduper(db)\n",
    "\n",
    "collectino = Collection('cdc_example')"
   ]
  },
  {
   "cell_type": "markdown",
   "id": "6bde593d",
   "metadata": {},
   "source": [
    "Insert the data into `documents` collection"
   ]
  },
  {
   "cell_type": "code",
   "execution_count": 3,
   "id": "7647ef68",
   "metadata": {},
   "outputs": [
    {
     "name": "stderr",
     "output_type": "stream",
     "text": [
      "INFO:root:found 0 uris\n"
     ]
    },
    {
     "data": {
      "text/plain": [
       "(<pymongo.results.InsertManyResult at 0x7ff01f4d8d60>,\n",
       " TaskWorkflow(database=<superduperdb.datalayer.base.database.BaseDatabase object at 0x7ff029927070>, G=<networkx.classes.digraph.DiGraph object at 0x7ff01f4d8be0>))"
      ]
     },
     "execution_count": 3,
     "metadata": {},
     "output_type": "execute_result"
    }
   ],
   "source": [
    "data = [\n",
    "  {\n",
    "    \"title\": \"Politics of Armenia\",\n",
    "    \"abstract\": \"The politics of Armenia take place in the framework of the parliamentary representative democratic republic of Armenia, whereby the President of Armenia is the head of state and the Prime Minister of Armenia the head of government, and of a multi-party system. Executive power is exercised by the President and the Government.\"\n",
    "  },\n",
    "  {\n",
    "    \"title\": \"Foreign relations of Armenia\",\n",
    "    \"abstract\": \"Since its independence, Armenia has maintained a policy of complementarism by trying to have positive and friendly relations with Iran, Russia, and the West, including the United States and the European Union.– \\\"Armenian Foreign Policy Between Russia, Iran And U.\"\n",
    "  },\n",
    "  {\n",
    "    \"title\": \"Demographics of American Samoa\",\n",
    "    \"abstract\": \"This article is about the demographics of American Samoa, including population density, ethnicity, education level, health of the populace, economic status, religious affiliations and other aspects of the population. American Samoa is an unincorporated territory of the United States located in the South Pacific Ocean.\"\n",
    "  },\n",
    "  {\n",
    "    \"title\": \"Analysis\",\n",
    "    \"abstract\": \"Analysis is the process of breaking a complex topic or substance into smaller parts in order to gain a better understanding of it. The technique has been applied in the study of mathematics and logic since before Aristotle (384–322 B.\"\n",
    "  }\n",
    "]\n",
    "\n",
    "data = [D(d) for d in data]\n",
    "\n",
    "db.execute(collection.insert_many(data, encoders= [i]))"
   ]
  },
  {
   "cell_type": "markdown",
   "id": "684c323d",
   "metadata": {},
   "source": [
    "Create a vector index watcher.\n",
    "This consist a indexing watcher (SentenceTransformer) model to vectorize a key."
   ]
  },
  {
   "cell_type": "code",
   "execution_count": 4,
   "id": "a3425fa6",
   "metadata": {},
   "outputs": [
    {
     "name": "stderr",
     "output_type": "stream",
     "text": [
      "INFO:sentence_transformers.SentenceTransformer:Load pretrained SentenceTransformer: all-MiniLM-L6-v2\n",
      "INFO:sentence_transformers.SentenceTransformer:Use pytorch device: cpu\n"
     ]
    }
   ],
   "source": [
    "def configure_text_search(model):\n",
    "    return db.add(VectorIndex(\n",
    "        identifier='my-index',\n",
    "        indexing_watcher=Watcher(\n",
    "            model=model,\n",
    "            key='abstract',\n",
    "            select=Collection(name='documents').find()\n",
    "        ),\n",
    "    ))\n",
    "\n",
    "configure_text_search(\n",
    "    SentenceTransformer(\n",
    "        identifier=\"test-st\",\n",
    "        object=_SentenceTransformer('all-MiniLM-L6-v2'),\n",
    "        encoder= array('float32', shape=(384,))\n",
    "    )\n",
    ")"
   ]
  },
  {
   "cell_type": "markdown",
   "id": "15ca7228",
   "metadata": {},
   "source": [
    "Create instance of `DatabaseWatcher`\n",
    "Start watching `documents` collection."
   ]
  },
  {
   "cell_type": "code",
   "execution_count": 26,
   "id": "35a9698e",
   "metadata": {},
   "outputs": [
    {
     "name": "stderr",
     "output_type": "stream",
     "text": [
      "INFO:root:Database watch service started at 2023-07-21 19:21:35.649003\n",
      "INFO:root:Started listening database with identity basic-cdc-watcher/documents...\n"
     ]
    }
   ],
   "source": [
    "database_watcher = DatabaseWatcher(\n",
    "    db=db,\n",
    "    identifier='basic-cdc-watcher',\n",
    "    on=Collection(name='documents')\n",
    ")\n",
    "database_watcher.watch()"
   ]
  },
  {
   "cell_type": "markdown",
   "id": "d9267007",
   "metadata": {},
   "source": [
    "Check the watcher status"
   ]
  },
  {
   "cell_type": "code",
   "execution_count": 27,
   "id": "515f1be4",
   "metadata": {},
   "outputs": [
    {
     "data": {
      "text/plain": [
       "True"
      ]
     },
     "execution_count": 27,
     "metadata": {},
     "output_type": "execute_result"
    }
   ],
   "source": [
    "database_watcher.is_available()"
   ]
  },
  {
   "cell_type": "markdown",
   "id": "36520aee",
   "metadata": {},
   "source": [
    "You can check info of the watcher."
   ]
  },
  {
   "cell_type": "code",
   "execution_count": 28,
   "id": "faf4d408",
   "metadata": {},
   "outputs": [
    {
     "name": "stdout",
     "output_type": "stream",
     "text": [
      "{\n",
      "  \"inserts\": 0,\n",
      "  \"updates\": 0\n",
      "}\n"
     ]
    },
    {
     "data": {
      "text/plain": [
       "{'inserts': 0, 'updates': 0}"
      ]
     },
     "execution_count": 28,
     "metadata": {},
     "output_type": "execute_result"
    }
   ],
   "source": [
    "database_watcher.info()"
   ]
  },
  {
   "cell_type": "markdown",
   "id": "667e4115",
   "metadata": {},
   "source": [
    "Add 2 documents and check the info again"
   ]
  },
  {
   "cell_type": "code",
   "execution_count": 29,
   "id": "7cd16835",
   "metadata": {},
   "outputs": [
    {
     "name": "stderr",
     "output_type": "stream",
     "text": [
      "INFO:root:found 0 uris\n",
      "WARNING:root:model/test-st/0 already exists - doing nothing\n"
     ]
    },
    {
     "data": {
      "application/vnd.jupyter.widget-view+json": {
       "model_id": "c578498e5bca4b0688a556caded50a63",
       "version_major": 2,
       "version_minor": 0
      },
      "text/plain": [
       "Batches:   0%|          | 0/1 [00:00<?, ?it/s]"
      ]
     },
     "metadata": {},
     "output_type": "display_data"
    },
    {
     "name": "stderr",
     "output_type": "stream",
     "text": [
      "WARNING:root:model/test-st/0 already exists - doing nothing\n"
     ]
    },
    {
     "data": {
      "application/vnd.jupyter.widget-view+json": {
       "model_id": "ac1939bf00bb4005b06f395e23c4c1ed",
       "version_major": 2,
       "version_minor": 0
      },
      "text/plain": [
       "Batches:   0%|          | 0/1 [00:00<?, ?it/s]"
      ]
     },
     "metadata": {},
     "output_type": "display_data"
    }
   ],
   "source": [
    "data = [\n",
    "    {\n",
    "        \"title\": \"Politics of India\",\n",
    "        \"abstract\": \"Some despriction 1\",\n",
    "    }, \n",
    "    {\n",
    "        \"title\": \"Politics of Asia\",\n",
    "        \"abstract\": \"some description 2\",\n",
    "    }\n",
    "]\n",
    "doc = db_mongo.test_db.documents.insert_many(data)"
   ]
  },
  {
   "cell_type": "markdown",
   "id": "bdf2af2e",
   "metadata": {},
   "source": [
    "Check the inserts info again"
   ]
  },
  {
   "cell_type": "code",
   "execution_count": 10,
   "id": "7ecb8b96",
   "metadata": {},
   "outputs": [
    {
     "name": "stdout",
     "output_type": "stream",
     "text": [
      "{\n",
      "  \"inserts\": 1,\n",
      "  \"updates\": 0\n",
      "}\n"
     ]
    },
    {
     "data": {
      "text/plain": [
       "{'inserts': 1, 'updates': 0}"
      ]
     },
     "execution_count": 10,
     "metadata": {},
     "output_type": "execute_result"
    }
   ],
   "source": [
    "database_watcher.info()"
   ]
  },
  {
   "cell_type": "markdown",
   "id": "13cf1fad",
   "metadata": {},
   "source": [
    "Check that the vectors synced between LanceDB and MongoDB"
   ]
  },
  {
   "cell_type": "code",
   "execution_count": 11,
   "id": "a3159982",
   "metadata": {},
   "outputs": [],
   "source": [
    "from superduperdb.vector_search.lancedb_client import LanceDBClient\n",
    "from superduperdb import CFG"
   ]
  },
  {
   "cell_type": "code",
   "execution_count": 12,
   "id": "2c63c8c1",
   "metadata": {},
   "outputs": [],
   "source": [
    "client = db.vector_database.client"
   ]
  },
  {
   "cell_type": "markdown",
   "id": "e3c9d4d4",
   "metadata": {},
   "source": [
    "Use the identifier which is `model/key`"
   ]
  },
  {
   "cell_type": "code",
   "execution_count": null,
   "id": "184dc249",
   "metadata": {},
   "outputs": [],
   "source": [
    "table = client.get_table('test-st/abstract')"
   ]
  },
  {
   "cell_type": "code",
   "execution_count": 14,
   "id": "488691eb",
   "metadata": {},
   "outputs": [
    {
     "data": {
      "text/html": [
       "<div>\n",
       "<style scoped>\n",
       "    .dataframe tbody tr th:only-of-type {\n",
       "        vertical-align: middle;\n",
       "    }\n",
       "\n",
       "    .dataframe tbody tr th {\n",
       "        vertical-align: top;\n",
       "    }\n",
       "\n",
       "    .dataframe thead th {\n",
       "        text-align: right;\n",
       "    }\n",
       "</style>\n",
       "<table border=\"1\" class=\"dataframe\">\n",
       "  <thead>\n",
       "    <tr style=\"text-align: right;\">\n",
       "      <th></th>\n",
       "      <th>vector</th>\n",
       "      <th>id</th>\n",
       "    </tr>\n",
       "  </thead>\n",
       "  <tbody>\n",
       "    <tr>\n",
       "      <th>0</th>\n",
       "      <td>[0.0, 0.0, 0.0, 0.0, 0.0, 0.0, 0.0, 0.0, 0.0, ...</td>\n",
       "      <td>__SEEDKEY__</td>\n",
       "    </tr>\n",
       "    <tr>\n",
       "      <th>1</th>\n",
       "      <td>[-0.10046107, -0.004194115, 0.050496113, -0.01...</td>\n",
       "      <td>64b9970f87282bb1ebd74a82</td>\n",
       "    </tr>\n",
       "    <tr>\n",
       "      <th>2</th>\n",
       "      <td>[-0.057723213, 0.09273246, -0.028482832, 0.014...</td>\n",
       "      <td>64b9970f87282bb1ebd74a83</td>\n",
       "    </tr>\n",
       "    <tr>\n",
       "      <th>3</th>\n",
       "      <td>[-0.10046107, -0.004194115, 0.050496113, -0.01...</td>\n",
       "      <td>64b9989b6f03202cfcf0f784</td>\n",
       "    </tr>\n",
       "    <tr>\n",
       "      <th>4</th>\n",
       "      <td>[-0.057723213, 0.09273246, -0.028482832, 0.014...</td>\n",
       "      <td>64b9989b6f03202cfcf0f785</td>\n",
       "    </tr>\n",
       "    <tr>\n",
       "      <th>5</th>\n",
       "      <td>[-0.10046107, -0.004194115, 0.050496113, -0.01...</td>\n",
       "      <td>64b998fc9740cbc5d6c06555</td>\n",
       "    </tr>\n",
       "    <tr>\n",
       "      <th>6</th>\n",
       "      <td>[-0.057723213, 0.09273246, -0.028482832, 0.014...</td>\n",
       "      <td>64b998fc9740cbc5d6c06556</td>\n",
       "    </tr>\n",
       "    <tr>\n",
       "      <th>7</th>\n",
       "      <td>[-0.10046107, -0.004194115, 0.050496113, -0.01...</td>\n",
       "      <td>64b99d8b10919213a90f7b50</td>\n",
       "    </tr>\n",
       "    <tr>\n",
       "      <th>8</th>\n",
       "      <td>[-0.057723213, 0.09273246, -0.028482832, 0.014...</td>\n",
       "      <td>64b99d8b10919213a90f7b51</td>\n",
       "    </tr>\n",
       "    <tr>\n",
       "      <th>9</th>\n",
       "      <td>[-0.10046107, -0.004194115, 0.050496113, -0.01...</td>\n",
       "      <td>64b99d8c10919213a90f7b52</td>\n",
       "    </tr>\n",
       "    <tr>\n",
       "      <th>10</th>\n",
       "      <td>[-0.057723213, 0.09273246, -0.028482832, 0.014...</td>\n",
       "      <td>64b99d8c10919213a90f7b53</td>\n",
       "    </tr>\n",
       "    <tr>\n",
       "      <th>11</th>\n",
       "      <td>[-0.0642707, 0.062035114, -0.04294876, 0.01063...</td>\n",
       "      <td>64b99d8c10919213a90f7b54</td>\n",
       "    </tr>\n",
       "    <tr>\n",
       "      <th>12</th>\n",
       "      <td>[-0.10046107, -0.004194115, 0.050496113, -0.01...</td>\n",
       "      <td>64ba60c1cf65c6b21a45b602</td>\n",
       "    </tr>\n",
       "    <tr>\n",
       "      <th>13</th>\n",
       "      <td>[-0.057723213, 0.09273246, -0.028482832, 0.014...</td>\n",
       "      <td>64ba60c1cf65c6b21a45b603</td>\n",
       "    </tr>\n",
       "    <tr>\n",
       "      <th>14</th>\n",
       "      <td>[-0.10046107, -0.004194115, 0.050496113, -0.01...</td>\n",
       "      <td>64ba60c2cf65c6b21a45b604</td>\n",
       "    </tr>\n",
       "    <tr>\n",
       "      <th>15</th>\n",
       "      <td>[-0.057723213, 0.09273246, -0.028482832, 0.014...</td>\n",
       "      <td>64ba60c2cf65c6b21a45b605</td>\n",
       "    </tr>\n",
       "    <tr>\n",
       "      <th>16</th>\n",
       "      <td>[-0.0642707, 0.062035114, -0.04294876, 0.01063...</td>\n",
       "      <td>64ba60c2cf65c6b21a45b606</td>\n",
       "    </tr>\n",
       "    <tr>\n",
       "      <th>17</th>\n",
       "      <td>[-0.057723213, 0.09273246, -0.028482832, 0.014...</td>\n",
       "      <td>64ba61053f925c0fbcae49ac</td>\n",
       "    </tr>\n",
       "    <tr>\n",
       "      <th>18</th>\n",
       "      <td>[-0.10046107, -0.004194115, 0.050496113, -0.01...</td>\n",
       "      <td>64ba61063f925c0fbcae49ad</td>\n",
       "    </tr>\n",
       "    <tr>\n",
       "      <th>19</th>\n",
       "      <td>[-0.057723213, 0.09273246, -0.028482832, 0.014...</td>\n",
       "      <td>64ba61063f925c0fbcae49ae</td>\n",
       "    </tr>\n",
       "    <tr>\n",
       "      <th>20</th>\n",
       "      <td>[-0.0642707, 0.062035114, -0.04294876, 0.01063...</td>\n",
       "      <td>64ba61063f925c0fbcae49af</td>\n",
       "    </tr>\n",
       "    <tr>\n",
       "      <th>21</th>\n",
       "      <td>[-0.10046107, -0.004194115, 0.050496113, -0.01...</td>\n",
       "      <td>64ba7a0966d21ce093715571</td>\n",
       "    </tr>\n",
       "    <tr>\n",
       "      <th>22</th>\n",
       "      <td>[-0.057723213, 0.09273246, -0.028482832, 0.014...</td>\n",
       "      <td>64ba7a0966d21ce093715572</td>\n",
       "    </tr>\n",
       "    <tr>\n",
       "      <th>23</th>\n",
       "      <td>[-0.0642707, 0.062035114, -0.04294876, 0.01063...</td>\n",
       "      <td>64ba7a0966d21ce093715573</td>\n",
       "    </tr>\n",
       "  </tbody>\n",
       "</table>\n",
       "</div>"
      ],
      "text/plain": [
       "                                               vector  \\\n",
       "0   [0.0, 0.0, 0.0, 0.0, 0.0, 0.0, 0.0, 0.0, 0.0, ...   \n",
       "1   [-0.10046107, -0.004194115, 0.050496113, -0.01...   \n",
       "2   [-0.057723213, 0.09273246, -0.028482832, 0.014...   \n",
       "3   [-0.10046107, -0.004194115, 0.050496113, -0.01...   \n",
       "4   [-0.057723213, 0.09273246, -0.028482832, 0.014...   \n",
       "5   [-0.10046107, -0.004194115, 0.050496113, -0.01...   \n",
       "6   [-0.057723213, 0.09273246, -0.028482832, 0.014...   \n",
       "7   [-0.10046107, -0.004194115, 0.050496113, -0.01...   \n",
       "8   [-0.057723213, 0.09273246, -0.028482832, 0.014...   \n",
       "9   [-0.10046107, -0.004194115, 0.050496113, -0.01...   \n",
       "10  [-0.057723213, 0.09273246, -0.028482832, 0.014...   \n",
       "11  [-0.0642707, 0.062035114, -0.04294876, 0.01063...   \n",
       "12  [-0.10046107, -0.004194115, 0.050496113, -0.01...   \n",
       "13  [-0.057723213, 0.09273246, -0.028482832, 0.014...   \n",
       "14  [-0.10046107, -0.004194115, 0.050496113, -0.01...   \n",
       "15  [-0.057723213, 0.09273246, -0.028482832, 0.014...   \n",
       "16  [-0.0642707, 0.062035114, -0.04294876, 0.01063...   \n",
       "17  [-0.057723213, 0.09273246, -0.028482832, 0.014...   \n",
       "18  [-0.10046107, -0.004194115, 0.050496113, -0.01...   \n",
       "19  [-0.057723213, 0.09273246, -0.028482832, 0.014...   \n",
       "20  [-0.0642707, 0.062035114, -0.04294876, 0.01063...   \n",
       "21  [-0.10046107, -0.004194115, 0.050496113, -0.01...   \n",
       "22  [-0.057723213, 0.09273246, -0.028482832, 0.014...   \n",
       "23  [-0.0642707, 0.062035114, -0.04294876, 0.01063...   \n",
       "\n",
       "                          id  \n",
       "0                __SEEDKEY__  \n",
       "1   64b9970f87282bb1ebd74a82  \n",
       "2   64b9970f87282bb1ebd74a83  \n",
       "3   64b9989b6f03202cfcf0f784  \n",
       "4   64b9989b6f03202cfcf0f785  \n",
       "5   64b998fc9740cbc5d6c06555  \n",
       "6   64b998fc9740cbc5d6c06556  \n",
       "7   64b99d8b10919213a90f7b50  \n",
       "8   64b99d8b10919213a90f7b51  \n",
       "9   64b99d8c10919213a90f7b52  \n",
       "10  64b99d8c10919213a90f7b53  \n",
       "11  64b99d8c10919213a90f7b54  \n",
       "12  64ba60c1cf65c6b21a45b602  \n",
       "13  64ba60c1cf65c6b21a45b603  \n",
       "14  64ba60c2cf65c6b21a45b604  \n",
       "15  64ba60c2cf65c6b21a45b605  \n",
       "16  64ba60c2cf65c6b21a45b606  \n",
       "17  64ba61053f925c0fbcae49ac  \n",
       "18  64ba61063f925c0fbcae49ad  \n",
       "19  64ba61063f925c0fbcae49ae  \n",
       "20  64ba61063f925c0fbcae49af  \n",
       "21  64ba7a0966d21ce093715571  \n",
       "22  64ba7a0966d21ce093715572  \n",
       "23  64ba7a0966d21ce093715573  "
      ]
     },
     "execution_count": 14,
     "metadata": {},
     "output_type": "execute_result"
    }
   ],
   "source": [
    "table.table.to_pandas()"
   ]
  }
 ],
 "metadata": {
  "kernelspec": {
   "display_name": "Python 3 (ipykernel)",
   "language": "python",
   "name": "python3"
  },
  "language_info": {
   "codemirror_mode": {
    "name": "ipython",
    "version": 3
   },
   "file_extension": ".py",
   "mimetype": "text/x-python",
   "name": "python",
   "nbconvert_exporter": "python",
   "pygments_lexer": "ipython3",
   "version": "3.11.3"
  }
 },
 "nbformat": 4,
 "nbformat_minor": 5
}
